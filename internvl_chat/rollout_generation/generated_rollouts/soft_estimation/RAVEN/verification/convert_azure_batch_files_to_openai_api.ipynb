{
 "cells": [
  {
   "cell_type": "code",
   "execution_count": 1,
   "metadata": {},
   "outputs": [],
   "source": [
    "import json\n",
    "import os\n",
    "import glob\n",
    "from pathlib import Path"
   ]
  },
  {
   "cell_type": "code",
   "execution_count": 2,
   "metadata": {},
   "outputs": [
    {
     "name": "stdout",
     "output_type": "stream",
     "text": [
      "Found 2 JSONL files:\n",
      "  - batch_0010.jsonl\n",
      "  - batch_0011.jsonl\n"
     ]
    }
   ],
   "source": [
    "# Directory containing JSONL files\n",
    "jsonl_directory = \"/data/users/brandon/ob1-projects/InternVL/internvl_chat/rollout_generation/generated_rollouts/soft_estimation/RAVEN/verification/verification_pipeline_outputs/gpt-4.1-nano/mock_batch_for_testing/old_batch_files\"\n",
    "\n",
    "# Get all JSONL files in the directory\n",
    "jsonl_files = glob.glob(os.path.join(jsonl_directory, \"*.jsonl\"))\n",
    "print(f\"Found {len(jsonl_files)} JSONL files:\")\n",
    "for file in jsonl_files:\n",
    "    print(f\"  - {os.path.basename(file)}\")"
   ]
  },
  {
   "cell_type": "code",
   "execution_count": 8,
   "metadata": {},
   "outputs": [
    {
     "name": "stdout",
     "output_type": "stream",
     "text": [
      "Loading first file: batch_0010.jsonl\n",
      "Keys in the first record:\n",
      "  - custom_id\n",
      "  - method\n",
      "  - url\n",
      "  - body\n",
      "\n",
      "Current model value: gpt-4.1-nano-2\n",
      "\n",
      "Current url value: /chat/completions\n"
     ]
    }
   ],
   "source": [
    "if jsonl_files:\n",
    "    first_file = jsonl_files[0]\n",
    "    print(f\"Loading first file: {os.path.basename(first_file)}\")\n",
    "    \n",
    "    with open(first_file, 'r') as f:\n",
    "        first_line = f.readline().strip()\n",
    "        if first_line:\n",
    "            first_record = json.loads(first_line)\n",
    "            print(\"Keys in the first record:\")\n",
    "            for key in first_record.keys():\n",
    "                print(f\"  - {key}\")\n",
    "            \n",
    "            if \"body\" in first_record and \"model\" in first_record[\"body\"]:\n",
    "                current_model = first_record[\"body\"][\"model\"]\n",
    "                print(f\"\\nCurrent model value: {current_model}\")\n",
    "            if \"url\" in first_record:\n",
    "                print(f\"\\nCurrent url value: {first_record['url']}\")\n",
    "            else:\n",
    "                print(\"\\nNo 'body.model' key found in the first record\")\n",
    "else:\n",
    "    print(\"No JSONL files found in the directory\")"
   ]
  },
  {
   "cell_type": "code",
   "execution_count": 4,
   "metadata": {},
   "outputs": [],
   "source": [
    "def update_jsonl_model(jsonl_file_path, new_model_value, new_url_value):\n",
    "    \"\"\"\n",
    "    Update the model value in all records of a JSONL file\n",
    "    \"\"\"\n",
    "    updated_records = []\n",
    "    \n",
    "    with open(jsonl_file_path, 'r') as f:\n",
    "        for line_num, line in enumerate(f, 1):\n",
    "            line = line.strip()\n",
    "            if line:\n",
    "                try:\n",
    "                    record = json.loads(line)\n",
    "                    if \"body\" in record and \"model\" in record[\"body\"]:\n",
    "                        record[\"body\"][\"model\"] = new_model_value\n",
    "                    if \"url\" in record:\n",
    "                        record[\"url\"] = new_url_value\n",
    "                    updated_records.append(record)\n",
    "                except json.JSONDecodeError as e:\n",
    "                    print(f\"Error parsing line {line_num}: {e}\")\n",
    "                    continue\n",
    "    \n",
    "    return updated_records"
   ]
  },
  {
   "cell_type": "code",
   "execution_count": 9,
   "metadata": {},
   "outputs": [
    {
     "name": "stdout",
     "output_type": "stream",
     "text": [
      "\n",
      "Processing: batch_0010.jsonl\n",
      "Saved updated file: ../verification_batches/batch_0010.jsonl\n",
      "Original records: 2331, Saved records: 2331\n",
      "\n",
      "Processing: batch_0011.jsonl\n",
      "Saved updated file: ../verification_batches/batch_0011.jsonl\n",
      "Original records: 2331, Saved records: 2331\n",
      "\n",
      "All files processed successfully!\n"
     ]
    }
   ],
   "source": [
    "# Get new model value and number of records from user\n",
    "new_model_value = input(\"Enter the new model value: \")\n",
    "# new_url_value = input(\"Enter the new url value: \")\n",
    "new_url_value = \"v1/chat/completions\"\n",
    "num_records_input = input(\"Enter the number of records to include in updated files (or 'all' for all records): \")\n",
    "\n",
    "# Process all JSONL files\n",
    "for jsonl_file in jsonl_files:\n",
    "    filename = os.path.basename(jsonl_file)\n",
    "    print(f\"\\nProcessing: {filename}\")\n",
    "    \n",
    "    # Update the model value\n",
    "    updated_records = update_jsonl_model(jsonl_file, new_model_value, new_url_value)\n",
    "    \n",
    "    # Handle \"all\" input or limit to specified number of records\n",
    "    if num_records_input.lower() == \"all\":\n",
    "        limited_records = updated_records\n",
    "    else:\n",
    "        num_records = int(num_records_input)\n",
    "        limited_records = updated_records[:num_records]\n",
    "    \n",
    "    # Create new filename\n",
    "    name_without_ext = os.path.splitext(filename)[0]\n",
    "    new_filename = f\"../verification_batches/{name_without_ext}.jsonl\"\n",
    "    new_filepath = os.path.join(jsonl_directory, new_filename)\n",
    "    \n",
    "    # Save updated file with limited records\n",
    "    with open(new_filepath, 'w') as f:\n",
    "        for record in limited_records:\n",
    "            f.write(json.dumps(record) + '\\n')\n",
    "    \n",
    "    print(f\"Saved updated file: {new_filename}\")\n",
    "    print(f\"Original records: {len(updated_records)}, Saved records: {len(limited_records)}\")\n",
    "\n",
    "print(\"\\nAll files processed successfully!\")"
   ]
  },
  {
   "cell_type": "code",
   "execution_count": 7,
   "metadata": {},
   "outputs": [
    {
     "name": "stdout",
     "output_type": "stream",
     "text": [
      "/data/users/brandon/ob1-projects/InternVL/internvl_chat/rollout_generation/generated_rollouts/soft_estimation/RAVEN/verification/verification_pipeline_outputs/gpt-4.1-nano/mock_batch_for_testing/verification_batches\n",
      "Verifying 2 updated files:\n",
      "\n",
      "Checking: batch_0010.jsonl\n",
      "  Total records: 100\n",
      "  Model value: gpt-4.1-nano\n",
      "  Url value: /v1/chat/completions\n",
      "\n",
      "Checking: batch_0011.jsonl\n",
      "  Total records: 100\n",
      "  Model value: gpt-4.1-nano\n",
      "  Url value: /v1/chat/completions\n"
     ]
    }
   ],
   "source": [
    "# Verify the updates by checking the first record of each updated file\n",
    "verification_batches_dir = os.path.normpath(os.path.join(jsonl_directory, \"../verification_batches\"))\n",
    "\n",
    "print(verification_batches_dir)\n",
    "\n",
    "updated_files = glob.glob(os.path.join(verification_batches_dir, \"*.jsonl\"))\n",
    "print(f\"Verifying {len(updated_files)} updated files:\")\n",
    "\n",
    "for updated_file in updated_files:\n",
    "    filename = os.path.basename(updated_file)\n",
    "    print(f\"\\nChecking: {filename}\")\n",
    "    \n",
    "    # Count total records in the file\n",
    "    record_count = 0\n",
    "    with open(updated_file, 'r') as f:\n",
    "        for line in f:\n",
    "            if line.strip():\n",
    "                record_count += 1\n",
    "    \n",
    "    print(f\"  Total records: {record_count}\")\n",
    "    \n",
    "    # Check first record\n",
    "    with open(updated_file, 'r') as f:\n",
    "        first_line = f.readline().strip()\n",
    "        if first_line:\n",
    "            first_record = json.loads(first_line)\n",
    "            if \"body\" in first_record and \"model\" in first_record[\"body\"]:\n",
    "                model_value = first_record[\"body\"][\"model\"]\n",
    "                print(f\"  Model value: {model_value}\")\n",
    "            if \"url\" in first_record:\n",
    "                url_value = first_record[\"url\"]\n",
    "                print(f\"  Url value: {url_value}\")\n",
    "            else:\n",
    "                print(\"  No 'body.model' key found\")\n",
    "        else:\n",
    "            print(\"  File is empty\")"
   ]
  },
  {
   "cell_type": "code",
   "execution_count": null,
   "metadata": {},
   "outputs": [],
   "source": []
  }
 ],
 "metadata": {
  "kernelspec": {
   "display_name": "mmr_processing",
   "language": "python",
   "name": "python3"
  },
  "language_info": {
   "codemirror_mode": {
    "name": "ipython",
    "version": 3
   },
   "file_extension": ".py",
   "mimetype": "text/x-python",
   "name": "python",
   "nbconvert_exporter": "python",
   "pygments_lexer": "ipython3",
   "version": "3.12.9"
  }
 },
 "nbformat": 4,
 "nbformat_minor": 2
}
